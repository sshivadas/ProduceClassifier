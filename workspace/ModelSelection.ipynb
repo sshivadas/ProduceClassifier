{
 "cells": [
  {
   "cell_type": "code",
   "execution_count": 2,
   "id": "a0757e69",
   "metadata": {},
   "outputs": [],
   "source": [
    "from MyImports import *"
   ]
  },
  {
   "cell_type": "code",
   "execution_count": null,
   "id": "8c3f240a",
   "metadata": {},
   "outputs": [],
   "source": [
    "def plot_accuracy(model_history, n_epochs=None):\n",
    "    \"\"\"\n",
    "    Plots training and test accuracy over epochs.\n",
    "\n",
    "    Parameters:\n",
    "        model_history: Keras History object from model.fit()\n",
    "        n_epochs (int, optional): Number of epochs. If None, inferred from history.\n",
    "    \"\"\"\n",
    "    if not hasattr(model_history, 'history'):\n",
    "        print(\"❗ Invalid model_history object.\")\n",
    "        return\n",
    "\n",
    "    history = model_history.history\n",
    "    if n_epochs is None:\n",
    "        n_epochs = len(history.get('accuracy', []))\n",
    "\n",
    "    epochs = range(n_epochs)\n",
    "\n",
    "    plt.figure(figsize=(7.5, 5))\n",
    "    plt.plot(epochs, [acc * 100 for acc in history.get('accuracy', [])], label='Train', color='b')\n",
    "    plt.plot(epochs, [acc * 100 for acc in history.get('val_accuracy', [])], label='Val', color='r')\n",
    "    plt.title('Accuracy vs. Epoch', fontsize=15)\n",
    "    plt.xlabel('Epoch', fontsize=12)\n",
    "    plt.ylabel('Accuracy (%)', fontsize=12)\n",
    "    plt.legend()\n",
    "    plt.grid(True, linestyle='--', alpha=0.6)\n",
    "    plt.tight_layout()\n",
    "    plt.show()\n"
   ]
  },
  {
   "cell_type": "code",
   "execution_count": null,
   "id": "74e56f02",
   "metadata": {},
   "outputs": [],
   "source": [
    "def plot_loss(model_history, n_epochs=None):\n",
    "    \"\"\"\n",
    "    Plots training and validation loss over epochs.\n",
    "\n",
    "    Parameters:\n",
    "        model_history: Keras History object from model.fit()\n",
    "        n_epochs (int, optional): Number of epochs. If None, inferred from history.\n",
    "    \"\"\"\n",
    "    if not hasattr(model_history, 'history'):\n",
    "        print(\"❗ Invalid model_history object.\")\n",
    "        return\n",
    "\n",
    "    history = model_history.history\n",
    "    if n_epochs is None:\n",
    "        n_epochs = len(history.get('loss', []))\n",
    "\n",
    "    epochs = range(n_epochs)\n",
    "\n",
    "    plt.figure(figsize=(7.5, 5))\n",
    "    plt.plot(epochs, history.get('loss', []), label='Train', color='b')\n",
    "    plt.plot(epochs, history.get('val_loss', []), label='Val', color='r')\n",
    "    plt.title('Loss vs. Epoch', fontsize=15)\n",
    "    plt.xlabel('Epoch', fontsize=12)\n",
    "    plt.ylabel('Loss', fontsize=12)\n",
    "    plt.legend()\n",
    "    plt.grid(True, linestyle='--', alpha=0.6)\n",
    "    plt.tight_layout()\n",
    "    plt.show()"
   ]
  }
 ],
 "metadata": {
  "kernelspec": {
   "display_name": "Python 3",
   "language": "python",
   "name": "python3"
  },
  "language_info": {
   "codemirror_mode": {
    "name": "ipython",
    "version": 3
   },
   "file_extension": ".py",
   "mimetype": "text/x-python",
   "name": "python",
   "nbconvert_exporter": "python",
   "pygments_lexer": "ipython3",
   "version": "3.11.9"
  }
 },
 "nbformat": 4,
 "nbformat_minor": 5
}
